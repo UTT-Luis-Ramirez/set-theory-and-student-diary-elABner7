{
  "nbformat": 4,
  "nbformat_minor": 0,
  "metadata": {
    "colab": {
      "provenance": []
    },
    "kernelspec": {
      "name": "python3",
      "display_name": "Python 3"
    },
    "language_info": {
      "name": "python"
    }
  },
  "cells": [
    {
      "cell_type": "markdown",
      "source": [
        "# **PROBABILIDAD Y SOULBOUND\n",
        "\n",
        "\n",
        "**PRIMER TIRADA**\n",
        "---\n",
        "Ataque normal (requiere 4 o mas)\n",
        "\n",
        "Se tiran 2 dados para saber si es exitoso:\n",
        "Resultado dado 1: **1** (fallido).  Resultado dado 2: **3** (fallido).\n",
        "\n",
        "FALLIDO"
      ],
      "metadata": {
        "id": "1YKMVwholXGp"
      }
    },
    {
      "cell_type": "markdown",
      "source": [
        "**SEGUNDA TIRADA**\n",
        "---\n",
        "\n",
        "Ataque rapido (requiere 5 o mas)\n",
        "\n",
        "Se tiran 2 dados: Resultado dado 1: **4** (fallido). Resultado dado 2: 6 (exitoso y critico)\n",
        "\n",
        "Se tiran 3 dados para determinar el daños: Resultados: 4, 4, 4 = 12\n",
        "\n",
        "12 X 2 = 24 (bonus critico) DAñO TOTAL 24\n",
        "\n"
      ],
      "metadata": {
        "id": "b_7q4f0bqfcO"
      }
    },
    {
      "cell_type": "markdown",
      "source": [
        "**TERCER TIRADA**\n",
        "---\n",
        "Ataque especial (no me acuerdo cual) bonus de doble tiro (requiere 5 o mas)\n",
        "\n",
        "Se tiran 3 dados 2 veces:\n",
        "\n",
        "* Resultado tiro 1: Dado 1: **5** (exitoso). Dado 2: **5** (exitoso). Dado 3: **4** (fallido).\n",
        "* Resultado tiro 2: Dado 2: **4** (fallido). Dado 2: **3** (fallido). Dado 3: **1** (fallido).\n",
        "\n",
        "Se tiran 2 dados para  para determinar el daño: Resultados:"
      ],
      "metadata": {
        "id": "ixNaWtmYsFeN"
      }
    },
    {
      "cell_type": "markdown",
      "source": [
        "**CUARTA TIRADA**\n",
        "---\n",
        "Ataque normal (requiere 4 o mas)\n",
        "\n",
        "Se tiran 3 dados: Dado 1: **5** (exitoso). Dado 2: **2** (fallido). Dado 3: **2** (fallido).\n",
        "\n",
        "Se tira 1 dado para determinar el daño: Resultados: 6.\n",
        "\n",
        "6 x 2 = 12 (bonus critico) DAñO TOTAL 12"
      ],
      "metadata": {
        "id": "t-j0GZALEhXH"
      }
    },
    {
      "cell_type": "markdown",
      "source": [
        "**QUINTA TIRADA**\n",
        "---\n",
        "Ataque normal (requiere 4 o mas) bonus doble de daño\n",
        "\n",
        "Se tiran 3 dados: Dado 1: **6** (exitoso y critico). Dado 2: **4** (exitoso). Dado 3: **2** (fallido).\n",
        "\n",
        "Se tiran 2 dados para determinar el daño: Resultados: 2,1\n",
        "\n",
        "2 x 2 (critico) = 4+1= 5 x 2 (doble de daño) = 10 DAñO TOTAL 10"
      ],
      "metadata": {
        "id": "mLfxW7CBIdB1"
      }
    },
    {
      "cell_type": "markdown",
      "source": [
        "**SEXTA TIRADA**\n",
        "---\n",
        "Ataque rapido con congelacion (5 o mas)\n",
        "\n",
        "Se tiran 3 dados: Dado 1: **6** (exitoso y critico). Dado 2: **6** (exitoso y critico). Dado 3: **4** (exitoso).\n",
        "\n",
        "Se tiran 2 dados para determinar el daño: 6, 8\n",
        "\n",
        "6 x 2 = 12 8 x 2=16(critico) 12 + 16 = 28 DAñO TOTAL 28\n"
      ],
      "metadata": {
        "id": "wxJEfj32KlfR"
      }
    },
    {
      "cell_type": "markdown",
      "source": [
        "**SEPTIMA TIRADA**\n",
        "---\n",
        "Ataque normal (4 o mas) bonus de doble tiro\n",
        "\n",
        "* Se tiran 3 dados: Dado 1: **6** (exitoso y critico). Dado 2: **6** (exitoso y critico). Dado 3: **6** (exitoso y critico).\n",
        "* Se tiran 3 dados: Dado 1: **6** (exitoso y critico). Dado 2: **4** (exitoso). Dado 3: **4** (exitoso).\n",
        "\n",
        "15+36= 51 DAñO\n"
      ],
      "metadata": {
        "id": "72Lio55cOAMB"
      }
    },
    {
      "cell_type": "markdown",
      "source": [
        "**OCTAVA TIRADA**\n",
        "---\n",
        "Octava - ataque rapido sagrado (doble tirada) -  (5 o mas) - 3 dados, 6,4,1 (1 critico) - 3 dados 6,5,2  (1 critico de 2 exitosos) - no me acuerdo de los otros datos - pero el daño total es 44\n",
        "\n",
        "Ataque rapido sagrado (5 o mas) doble tiro\n",
        "\n",
        "* Se tiran 3 dados: Dado 1: **6** (exitoso y critico). Dado 2: **4** (fallido). Dado 3: **1** (fallido).\n",
        "* Se tiran 3 dados: Dado 1: **6** (exitoso y critico). Dado 2: **5** (exitoso). Dado 3: **2** (fallido).\n",
        "\n"
      ],
      "metadata": {
        "id": "yazhwNLNQ2pv"
      }
    }
  ]
}